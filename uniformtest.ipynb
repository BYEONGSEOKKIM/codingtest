{
  "nbformat": 4,
  "nbformat_minor": 0,
  "metadata": {
    "colab": {
      "name": "uniformtest.ipynb",
      "provenance": [],
      "authorship_tag": "ABX9TyPd/gRjgRuvvUIVEADwaJhB",
      "include_colab_link": true
    },
    "kernelspec": {
      "name": "python3",
      "display_name": "Python 3"
    },
    "language_info": {
      "name": "python"
    }
  },
  "cells": [
    {
      "cell_type": "markdown",
      "metadata": {
        "id": "view-in-github",
        "colab_type": "text"
      },
      "source": [
        "<a href=\"https://colab.research.google.com/github/BYEONGSEOKKIM/codingtest/blob/main/uniformtest.ipynb\" target=\"_parent\"><img src=\"https://colab.research.google.com/assets/colab-badge.svg\" alt=\"Open In Colab\"/></a>"
      ]
    },
    {
      "cell_type": "code",
      "metadata": {
        "id": "WwR8Rq8lSewG"
      },
      "source": [
        "## 체육복 여벌 코딩테스트"
      ],
      "execution_count": 1,
      "outputs": []
    },
    {
      "cell_type": "code",
      "metadata": {
        "id": "qotfxoeSTCvu"
      },
      "source": [
        "def solution(n, lost, reserve):\n",
        "    list_reserve = set(reserve) - set(lost)\n",
        "    list_lost = set(lost) - set(reserve)\n",
        "    for i in list_reserve:\n",
        "        if i-1 in list_lost:\n",
        "            list_lost.remove(i-1)\n",
        "        elif i+1 in list_lost:\n",
        "            list_lost.remove(i+1)\n",
        "    return n-len(list_lost)"
      ],
      "execution_count": null,
      "outputs": []
    },
    {
      "cell_type": "code",
      "metadata": {
        "colab": {
          "base_uri": "https://localhost:8080/"
        },
        "id": "WG3-vwZISggN",
        "outputId": "56eb0dc4-1aeb-40b5-e8f8-c4118323d928"
      },
      "source": [
        "print(solution(5,[2,3],[5]))"
      ],
      "execution_count": 2,
      "outputs": [
        {
          "output_type": "stream",
          "text": [
            "3\n"
          ],
          "name": "stdout"
        }
      ]
    },
    {
      "cell_type": "code",
      "metadata": {
        "colab": {
          "base_uri": "https://localhost:8080/"
        },
        "id": "Z_mjjRT4Sspz",
        "outputId": "521e297d-d929-4957-d6b7-536869e1172d"
      },
      "source": [
        "print(solution(10,(2,4),(5,6,9)))"
      ],
      "execution_count": 3,
      "outputs": [
        {
          "output_type": "stream",
          "text": [
            "9\n"
          ],
          "name": "stdout"
        }
      ]
    },
    {
      "cell_type": "code",
      "metadata": {
        "id": "tnOL1PpRS7bF"
      },
      "source": [
        ""
      ],
      "execution_count": null,
      "outputs": []
    }
  ]
}